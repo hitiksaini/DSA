{
 "cells": [
  {
   "cell_type": "code",
   "execution_count": 2,
   "metadata": {},
   "outputs": [
    {
     "name": "stdout",
     "output_type": "stream",
     "text": [
      "Sorted Array:\n",
      "[11, 22, 39, 40, 45]\n"
     ]
    }
   ],
   "source": [
    "# Bubble sort is an algorithm that compares the adjacent elements and swaps their positions\n",
    "# if they are not in the intended order\n",
    "def bubbleSort(array):\n",
    "    # Here we run loops two times: one for walking throught the array \n",
    "    # and the other for comparison of the elements\n",
    "    for i in range(len(array)):\n",
    "        for j in range(0, len(array) - i - 1):  #this loop compares the two adjacent elements.\n",
    "            if array[j] > array[j + 1]: \n",
    "                # now we swap the elements if greater.\n",
    "                (array[j], array[j + 1]) = (array[j + 1], array[j])\n",
    "data = [22, 45, 40, 11, 39]\n",
    "bubbleSort(data)\n",
    "print('Sorted Array:')\n",
    "print(data)"
   ]
  },
  {
   "cell_type": "code",
   "execution_count": null,
   "metadata": {},
   "outputs": [],
   "source": [
    "# Optimized Bubble Sort\n",
    "# In the above code, all possible comparisons are made even if the array is already sorted. It increases the execution time.\n",
    "# The code can be optimized by introducing an extra variable swapped. After each iteration, \n",
    "# if there is no swapping taking place then, there is no need for performing further loops.\n",
    "# In such a case, variable swapped is set false. Thus, we can prevent further iterations."
   ]
  },
  {
   "cell_type": "code",
   "execution_count": 4,
   "metadata": {},
   "outputs": [
    {
     "name": "stdout",
     "output_type": "stream",
     "text": [
      "Sorted Array: \n",
      "[11, 22, 39, 40, 45]\n"
     ]
    }
   ],
   "source": [
    "def bubbleSort(array):\n",
    "    # Here we run loops two times: one for walking throught the array \n",
    "    # and the other for comparison of the elements\n",
    "    for i in range(len(array)):\n",
    "        # swapped keeps track of swapping\n",
    "        isSwapped = True\n",
    "        for j in range(0, len(array) - i - 1):\n",
    "            if array[j] > array[j + 1]:\n",
    "                # now we swap the elements if greater. \n",
    "                (array[j], array[j + 1]) = (array[j + 1], array[j])\n",
    "                isSwapped = False     \n",
    "        # If there is not swapping in the last swap, then the array is already sorted.\n",
    "        if isSwapped:\n",
    "            break\n",
    "data = [22, 45, 40, 11, 39]\n",
    "bubbleSort(data)\n",
    "print('Sorted Array: ')\n",
    "print(data)"
   ]
  },
  {
   "cell_type": "code",
   "execution_count": null,
   "metadata": {},
   "outputs": [],
   "source": [
    "# Number of comparisons: (n - 1) + (n - 2) + (n - 3) +.....+ 1 = n(n - 1) / 2 nearly equals to n^2\n",
    "\n",
    "# Complexity: O(n^2)\n",
    "# Also, we can analyze the complexity by simply observing the number of loops. There are 2 loops so the complexity is n*n = n^2\n",
    "    \n",
    "# Time Complexities:\n",
    "\n",
    "# Worst Case Complexity:O(n^2)\n",
    "# If we want to sort in ascending order and the array is in descending order then, the worst case occurs.\n",
    "\n",
    "# Best Case Complexity:O(n)\n",
    "# If the array is already sorted, then there is no need for sorting.\n",
    "\n",
    "# Average Case Complexity:O(n^2)\n",
    "# It occurs when the elements of the array are in jumbled order (neither ascending nor descending).\n",
    "\n",
    "# Space Complexity:\n",
    "# Space complexity is O(1) because an extra variable temp is used for swapping.\n",
    "\n",
    "# In the optimized algorithm, the variable swapped adds to the space complexity thus, making it O(2)."
   ]
  },
  {
   "cell_type": "code",
   "execution_count": null,
   "metadata": {},
   "outputs": [],
   "source": []
  }
 ],
 "metadata": {
  "kernelspec": {
   "display_name": "Python 3",
   "language": "python",
   "name": "python3"
  },
  "language_info": {
   "codemirror_mode": {
    "name": "ipython",
    "version": 3
   },
   "file_extension": ".py",
   "mimetype": "text/x-python",
   "name": "python",
   "nbconvert_exporter": "python",
   "pygments_lexer": "ipython3",
   "version": "3.7.3"
  }
 },
 "nbformat": 4,
 "nbformat_minor": 2
}
